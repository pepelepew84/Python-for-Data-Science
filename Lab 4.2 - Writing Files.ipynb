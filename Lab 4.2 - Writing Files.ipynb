{
    "cells": [
        {
            "cell_type": "code",
            "execution_count": 1,
            "metadata": {},
            "outputs": [],
            "source": "# Write line to file\n\nwith open('Example2.txt', 'w') as writefile:\n    writefile.write(\"This is line A\")"
        },
        {
            "cell_type": "code",
            "execution_count": 2,
            "metadata": {},
            "outputs": [
                {
                    "name": "stdout",
                    "output_type": "stream",
                    "text": "This is line A\n"
                }
            ],
            "source": "# Read file\n\nwith open('Example2.txt', 'r') as testwritefile:\n    print(testwritefile.read())"
        },
        {
            "cell_type": "code",
            "execution_count": 3,
            "metadata": {},
            "outputs": [],
            "source": "# Write lines to file\n\nwith open('Example2.txt', 'w') as writefile:\n    writefile.write(\"This is line A\\n\")\n    writefile.write(\"This is line B\\n\")"
        },
        {
            "cell_type": "code",
            "execution_count": 4,
            "metadata": {},
            "outputs": [
                {
                    "name": "stdout",
                    "output_type": "stream",
                    "text": "This is line A\nThis is line B\n\n"
                }
            ],
            "source": "# Check whether write to file\n\nwith open('Example2.txt', 'r') as testwritefile:\n    print(testwritefile.read())"
        },
        {
            "cell_type": "code",
            "execution_count": 5,
            "metadata": {},
            "outputs": [],
            "source": "# Write a new line to text file\n\nwith open('Example2.txt', 'a') as testwritefile:\n    testwritefile.write(\"This is line C\\n\")"
        },
        {
            "cell_type": "code",
            "execution_count": 6,
            "metadata": {},
            "outputs": [
                {
                    "name": "stdout",
                    "output_type": "stream",
                    "text": "This is line A\nThis is line B\nThis is line C\n\n"
                }
            ],
            "source": "# Verify if the new line is in the text file\n\nwith open('Example2.txt', 'r') as testwritefile:\n    print(testwritefile.read())"
        },
        {
            "cell_type": "code",
            "execution_count": 7,
            "metadata": {},
            "outputs": [
                {
                    "data": {
                        "text/plain": "['This is line A\\n', 'This is line B\\n', 'This is line C\\n']"
                    },
                    "execution_count": 7,
                    "metadata": {},
                    "output_type": "execute_result"
                }
            ],
            "source": "# Sample list of text\n\nLines = [\"This is line A\\n\", \"This is line B\\n\", \"This is line C\\n\"]\nLines"
        },
        {
            "cell_type": "code",
            "execution_count": 8,
            "metadata": {},
            "outputs": [
                {
                    "name": "stdout",
                    "output_type": "stream",
                    "text": "This is line A\n\nThis is line B\n\nThis is line C\n\n"
                }
            ],
            "source": "# Write the strings in the list to text file\n\nwith open('Example2.txt', 'w') as writefile:\n    for line in Lines:\n        print(line)\n        writefile.write(line)"
        },
        {
            "cell_type": "code",
            "execution_count": 9,
            "metadata": {},
            "outputs": [
                {
                    "name": "stdout",
                    "output_type": "stream",
                    "text": "This is line A\nThis is line B\nThis is line C\n\n"
                }
            ],
            "source": "# Verify if writing to file is successfully executed\n\nwith open('Example2.txt', 'r') as testwritefile:\n    print(testwritefile.read())"
        },
        {
            "cell_type": "code",
            "execution_count": 10,
            "metadata": {},
            "outputs": [],
            "source": "# Append the line to the file\n\nwith open('Example2.txt', 'a') as testwritefile:\n    testwritefile.write(\"This is line D\\n\")"
        },
        {
            "cell_type": "code",
            "execution_count": 11,
            "metadata": {},
            "outputs": [
                {
                    "name": "stdout",
                    "output_type": "stream",
                    "text": "This is line A\nThis is line B\nThis is line C\nThis is line D\n\n"
                }
            ],
            "source": "# Verify if the appending is successfully executed\n\nwith open('Example2.txt', 'r') as testwritefile:\n    print(testwritefile.read())"
        },
        {
            "cell_type": "code",
            "execution_count": 12,
            "metadata": {},
            "outputs": [],
            "source": "# Copy file to another\n\nwith open('Example2.txt','r') as readfile:\n    with open('Example3.txt','w') as writefile:\n          for line in readfile:\n                writefile.write(line)"
        },
        {
            "cell_type": "code",
            "execution_count": 13,
            "metadata": {},
            "outputs": [
                {
                    "name": "stdout",
                    "output_type": "stream",
                    "text": "This is line A\nThis is line B\nThis is line C\nThis is line D\n\n"
                }
            ],
            "source": "# Verify if the copy is successfully executed\n\nwith open('Example3.txt','r') as testwritefile:\n    print(testwritefile.read())"
        },
        {
            "cell_type": "code",
            "execution_count": null,
            "metadata": {},
            "outputs": [],
            "source": ""
        }
    ],
    "metadata": {
        "kernelspec": {
            "display_name": "Python 3.6",
            "language": "python",
            "name": "python3"
        },
        "language_info": {
            "codemirror_mode": {
                "name": "ipython",
                "version": 3
            },
            "file_extension": ".py",
            "mimetype": "text/x-python",
            "name": "python",
            "nbconvert_exporter": "python",
            "pygments_lexer": "ipython3",
            "version": "3.6.9"
        }
    },
    "nbformat": 4,
    "nbformat_minor": 1
}