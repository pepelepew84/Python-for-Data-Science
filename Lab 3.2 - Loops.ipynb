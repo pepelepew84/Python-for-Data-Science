{
    "cells": [
        {
            "cell_type": "code",
            "execution_count": 2,
            "metadata": {},
            "outputs": [
                {
                    "data": {
                        "text/plain": "range(0, 3)"
                    },
                    "execution_count": 2,
                    "metadata": {},
                    "output_type": "execute_result"
                }
            ],
            "source": "# Use the range\n\nrange(3)"
        },
        {
            "cell_type": "code",
            "execution_count": 3,
            "metadata": {},
            "outputs": [
                {
                    "name": "stdout",
                    "output_type": "stream",
                    "text": "1982\n1980\n1973\n"
                }
            ],
            "source": "# For loop example\n\ndates = [1982,1980,1973]\nN = len(dates)\n\nfor i in range(N):\n    print(dates[i])     "
        },
        {
            "cell_type": "code",
            "execution_count": 4,
            "metadata": {},
            "outputs": [
                {
                    "name": "stdout",
                    "output_type": "stream",
                    "text": "0\n1\n2\n3\n4\n5\n6\n7\n"
                }
            ],
            "source": "# Example of for loop\n\nfor i in range(0, 8):\n    print(i)"
        },
        {
            "cell_type": "code",
            "execution_count": 5,
            "metadata": {},
            "outputs": [
                {
                    "name": "stdout",
                    "output_type": "stream",
                    "text": "1982\n1980\n1973\n"
                }
            ],
            "source": "# Exmaple of for loop, loop through list\n\nfor year in dates:  \n    print(year)"
        },
        {
            "cell_type": "code",
            "execution_count": 6,
            "metadata": {},
            "outputs": [
                {
                    "name": "stdout",
                    "output_type": "stream",
                    "text": "Before square  0 is red\nAfter square  0 is weight\nBefore square  1 is yellow\nAfter square  1 is weight\nBefore square  2 is green\nAfter square  2 is weight\nBefore square  3 is purple\nAfter square  3 is weight\nBefore square  4 is blue\nAfter square  4 is weight\n"
                }
            ],
            "source": "# Use for loop to change the elements in list\n\nsquares = ['red', 'yellow', 'green', 'purple', 'blue']\n\nfor i in range(0, 5):\n    print(\"Before square \", i, 'is',  squares[i])\n    squares[i] = 'weight'\n    print(\"After square \", i, 'is',  squares[i])"
        },
        {
            "cell_type": "code",
            "execution_count": 7,
            "metadata": {},
            "outputs": [
                {
                    "name": "stdout",
                    "output_type": "stream",
                    "text": "0 red\n1 yellow\n2 green\n3 purple\n4 blue\n"
                }
            ],
            "source": "# Loop through the list and iterate on both index and element value\n\nsquares=['red', 'yellow', 'green', 'purple', 'blue']\n\nfor i, square in enumerate(squares):\n    print(i, square)"
        },
        {
            "cell_type": "code",
            "execution_count": 8,
            "metadata": {},
            "outputs": [
                {
                    "name": "stdout",
                    "output_type": "stream",
                    "text": "1982\n1980\n1973\nIt took  3 repetitions to get out of loop.\n"
                }
            ],
            "source": "# While Loop Example\n\ndates = [1982, 1980, 1973, 2000]\n\ni = 0\nyear = 0\n\nwhile(year != 1973):\n    year = dates[i]\n    i = i + 1\n    print(year)\n\nprint(\"It took \", i ,\"repetitions to get out of loop.\")"
        },
        {
            "cell_type": "code",
            "execution_count": 14,
            "metadata": {},
            "outputs": [
                {
                    "name": "stdout",
                    "output_type": "stream",
                    "text": "-5\n-4\n-3\n-2\n-1\n0\n1\n2\n3\n4\n5\n"
                }
            ],
            "source": "# Example of for loop\n\nfor i in range(-5, 6):\n    print(i)"
        },
        {
            "cell_type": "code",
            "execution_count": 17,
            "metadata": {},
            "outputs": [
                {
                    "name": "stdout",
                    "output_type": "stream",
                    "text": "rock\nR&B\nSoundtrack\nR&B\nsoul\npop\n"
                }
            ],
            "source": "Genres=['rock', 'R&B', 'Soundtrack', 'R&B', 'soul', 'pop']\n\n# Example of for loop, loop through list\n\nfor genres_list in Genres:  \n    print(genres_list) "
        },
        {
            "cell_type": "code",
            "execution_count": 18,
            "metadata": {},
            "outputs": [
                {
                    "name": "stdout",
                    "output_type": "stream",
                    "text": "red\nyellow\ngreen\npurple\nblue\n"
                }
            ],
            "source": "# write a loop that prints out the below list\n\nsquares=['red', 'yellow', 'green', 'purple', 'blue']\n\n\nfor squares_list in squares:  \n    print(squares_list) "
        },
        {
            "cell_type": "code",
            "execution_count": 37,
            "metadata": {},
            "outputs": [
                {
                    "name": "stdout",
                    "output_type": "stream",
                    "text": "10\n9.5\n10\n8\n7.5\nIt took  6 repetitions to get out of loop.\n"
                }
            ],
            "source": "# While Loop Example\n\nPlayListRatings = [10, 9.5, 10, 8, 7.5, 5, 10, 10]\ni = 1\nRating = PlayListRatings[0]\nwhile(Rating >= 6):\n    print(Rating)\n    Rating = PlayListRatings[i]\n    i = i + 1\nprint(\"It took \", i ,\"repetitions to get out of loop.\")"
        },
        {
            "cell_type": "code",
            "execution_count": 11,
            "metadata": {},
            "outputs": [
                {
                    "name": "stdout",
                    "output_type": "stream",
                    "text": "['orange', 'orange']\n"
                }
            ],
            "source": "#write a loop so that \"orange\" from squares list are copied to new_squares list. Stop and exit the loop if value is not orange.\nall_squares = ['orange', 'orange', 'purple', 'blue ', 'orange']\norange_squares = []\n\ni = 0\n\nwhile(all_squares[i] =='orange'):\n    orange_squares.append(all_squares[i])\n    i = i+1\nprint(orange_squares)"
        },
        {
            "cell_type": "code",
            "execution_count": null,
            "metadata": {},
            "outputs": [],
            "source": ""
        }
    ],
    "metadata": {
        "kernelspec": {
            "display_name": "Python 3.6",
            "language": "python",
            "name": "python3"
        },
        "language_info": {
            "codemirror_mode": {
                "name": "ipython",
                "version": 3
            },
            "file_extension": ".py",
            "mimetype": "text/x-python",
            "name": "python",
            "nbconvert_exporter": "python",
            "pygments_lexer": "ipython3",
            "version": "3.6.9"
        }
    },
    "nbformat": 4,
    "nbformat_minor": 1
}